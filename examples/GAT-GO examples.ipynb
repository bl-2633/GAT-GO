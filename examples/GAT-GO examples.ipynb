{
 "cells": [
  {
   "cell_type": "markdown",
   "id": "33657f53",
   "metadata": {},
   "source": [
    "## GAT-GO.py usage example"
   ]
  },
  {
   "cell_type": "markdown",
   "id": "7b4af7b8",
   "metadata": {},
   "source": [
    "1. Download the dataset from Zendo and place it in data directory under the repo"
   ]
  },
  {
   "cell_type": "markdown",
   "id": "d9eaa233",
   "metadata": {},
   "source": [
    "2. Run GAT-GO.py as described in the README.md file"
   ]
  },
  {
   "cell_type": "code",
   "execution_count": 1,
   "id": "cb2bb346",
   "metadata": {},
   "outputs": [],
   "source": [
    "!python ../GAT-GO.py --ModelPath ../trained_models/GAT-GO_modelweights.pt --SeqIDs ./sample_chains.txt --OutDir ./"
   ]
  },
  {
   "cell_type": "markdown",
   "id": "ce5df459",
   "metadata": {},
   "source": [
    "predictions are generated and saved at ./GAT-GO_Results.pt, we can now inspect it"
   ]
  },
  {
   "cell_type": "code",
   "execution_count": 2,
   "id": "a079d759",
   "metadata": {},
   "outputs": [
    {
     "name": "stdout",
     "output_type": "stream",
     "text": [
      "{'3ONG-B': array([0.0000e+00, 5.1439e-05, 1.0073e-04, ..., 1.0862e-03, 0.0000e+00,\n",
      "       5.9605e-08], dtype=float16), '1AD3-A': array([0.       , 0.       , 0.0003684, ..., 0.0002288, 0.       ,\n",
      "       0.       ], dtype=float16), '1FI8-A': array([0.0e+00, 8.5e-06, 6.0e-08, ..., 0.0e+00, 0.0e+00, 0.0e+00],\n",
      "      dtype=float16), '2FWM-X': array([0.000e+00, 0.000e+00, 2.592e-04, ..., 2.287e-03, 5.960e-08,\n",
      "       0.000e+00], dtype=float16)}\n"
     ]
    }
   ],
   "source": [
    "import torch\n",
    "import numpy as np\n",
    "results = torch.load('GAT-GO_Results.pt')\n",
    "print(results)"
   ]
  },
  {
   "cell_type": "markdown",
   "id": "2fe21f36",
   "metadata": {},
   "source": [
    "### Retrive GO terms from prediction"
   ]
  },
  {
   "cell_type": "markdown",
   "id": "d6990edc",
   "metadata": {},
   "source": [
    "For example, we can take a look at the prediction of 3ONG-B and retrive the GO terms from the result."
   ]
  },
  {
   "cell_type": "code",
   "execution_count": 3,
   "id": "7b74386b",
   "metadata": {},
   "outputs": [
    {
     "name": "stdout",
     "output_type": "stream",
     "text": [
      "GO:0097367:0.996\n",
      "GO:0030554:0.996\n",
      "GO:0032559:0.996\n",
      "GO:0005524:0.9956\n",
      "GO:0032553:0.994\n",
      "GO:0032555:0.9937\n",
      "GO:0017076:0.9937\n",
      "GO:0035639:0.9907\n",
      "GO:0140096:0.9673\n",
      "GO:0019787:0.8843\n"
     ]
    }
   ],
   "source": [
    "predicted_go_prob = results['3ONG-B']\n",
    "# load the dictionary that has the GO to index map\n",
    "go_map = torch.load('../data/data_splits/go2index.pt')\n",
    "go_map = {v: k for k, v in go_map.items()}\n",
    "\n",
    "#print the go-terms for the top-10 predicted probabilities\n",
    "top_terms_idx = np.argsort(predicted_go_prob)[::-1][:10]\n",
    "for idx in top_terms_idx:\n",
    "    print(go_map[idx] + ':' + str(predicted_go_prob[idx]))"
   ]
  },
  {
   "cell_type": "code",
   "execution_count": null,
   "id": "79bff769",
   "metadata": {},
   "outputs": [],
   "source": []
  }
 ],
 "metadata": {
  "kernelspec": {
   "display_name": "GAT-GO",
   "language": "python",
   "name": "gat-go"
  },
  "language_info": {
   "codemirror_mode": {
    "name": "ipython",
    "version": 3
   },
   "file_extension": ".py",
   "mimetype": "text/x-python",
   "name": "python",
   "nbconvert_exporter": "python",
   "pygments_lexer": "ipython3",
   "version": "3.6.13"
  }
 },
 "nbformat": 4,
 "nbformat_minor": 5
}
